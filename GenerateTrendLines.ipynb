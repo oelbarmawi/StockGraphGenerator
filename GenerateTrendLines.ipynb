{
 "cells": [
  {
   "cell_type": "code",
   "execution_count": 1,
   "metadata": {
    "collapsed": true
   },
   "outputs": [],
   "source": [
    "import csv\n",
    "import matplotlib.pyplot as plt\n",
    "import pandas as pd\n",
    "import matplotlib.dates as mdates\n",
    "import numpy as np\n",
    "from scipy.signal import argrelextrema\n",
    "from datetime import datetime"
   ]
  },
  {
   "cell_type": "code",
   "execution_count": 2,
   "metadata": {
    "collapsed": false
   },
   "outputs": [],
   "source": [
    "# data = pd.read_csv(\"Goog180.csv\", low_memory=False)\n",
    "# print(data)\n",
    "with open('Siri180.csv') as file:\n",
    "    reader = csv.reader(file)\n",
    "    dates = []\n",
    "    prices = []\n",
    "    for row in reader:\n",
    "#         print(row)\n",
    "        if row[1] != 'Close' and row[0] != 'Date': # TODO: change this\n",
    "            #Converting string date to datetime object in order to plot\n",
    "            dates.append(datetime.strptime(row[0] , '%m/%d/%y %H:%M'))\n",
    "            prices.append(float(row[1]))\n",
    " "
   ]
  },
  {
   "cell_type": "code",
   "execution_count": 3,
   "metadata": {
    "collapsed": true
   },
   "outputs": [],
   "source": [
    "plt.plot(dates, prices, color='green')\n",
    "plt.show()"
   ]
  },
  {
   "cell_type": "code",
   "execution_count": null,
   "metadata": {
    "collapsed": false
   },
   "outputs": [],
   "source": [
    "# Convert lists to numpy arrays for future functions\n",
    "dates = np.array(dates)\n",
    "prices = np.array(prices)\n",
    "\n",
    "# for local maxima\n",
    "print(\"maxima\")\n",
    "maxima = argrelextrema(prices, np.greater)\n",
    "print([dates[m] for m in maxima])\n",
    "\n",
    "# for local minima\n",
    "print(\"minima\")\n",
    "minima = argrelextrema(prices, np.less)\n",
    "print([dates[mi] for mi in minima])\n"
   ]
  },
  {
   "cell_type": "code",
   "execution_count": null,
   "metadata": {
    "collapsed": true
   },
   "outputs": [],
   "source": []
  }
 ],
 "metadata": {
  "kernelspec": {
   "display_name": "Python [Root]",
   "language": "python",
   "name": "Python [Root]"
  },
  "language_info": {
   "codemirror_mode": {
    "name": "ipython",
    "version": 3
   },
   "file_extension": ".py",
   "mimetype": "text/x-python",
   "name": "python",
   "nbconvert_exporter": "python",
   "pygments_lexer": "ipython3",
   "version": "3.5.2"
  }
 },
 "nbformat": 4,
 "nbformat_minor": 2
}
